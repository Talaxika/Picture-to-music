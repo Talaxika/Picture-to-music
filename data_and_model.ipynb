{
  "cells": [
    {
      "cell_type": "markdown",
      "metadata": {
        "id": "w5xMIEl2RyIr"
      },
      "source": [
        "# ***Loading the data***"
      ]
    },
    {
      "cell_type": "code",
      "execution_count": 1,
      "metadata": {
        "id": "Xevn-vm7Z4gp"
      },
      "outputs": [],
      "source": [
        "!pip install kagglehub --quiet"
      ]
    },
    {
      "cell_type": "code",
      "execution_count": 2,
      "metadata": {
        "id": "-46iJLqVe7-V"
      },
      "outputs": [],
      "source": [
        "!pip install librosa soundfile --quiet"
      ]
    },
    {
      "cell_type": "code",
      "execution_count": 3,
      "metadata": {
        "id": "jOcjqU99UuqF"
      },
      "outputs": [],
      "source": [
        "# Libs for loading the data\n",
        "import os\n",
        "import pandas as pd\n",
        "import numpy as np\n",
        "import kagglehub\n",
        "from torch.utils.data import Dataset, DataLoader\n",
        "import torch\n",
        "import matplotlib.pyplot as plt\n",
        "import seaborn as sns\n",
        "import librosa\n",
        "import soundfile as sf\n",
        "from collections import Counter\n",
        "from random import sample"
      ]
    },
    {
      "cell_type": "code",
      "execution_count": null,
      "metadata": {
        "colab": {
          "base_uri": "https://localhost:8080/",
          "height": 125
        },
        "id": "0TmnU6E6lJkD",
        "outputId": "0da98f73-ee04-4f5c-fa37-6492a0a2cc48"
      },
      "outputs": [],
      "source": [
        "if not os.path.exists(\"/root/.kaggle/kaggle.json\"):\n",
        "    print(\"Please upload your kaggle.json API key file\") # This is to download the EMOTIC dataset\n",
        "    from google.colab import files\n",
        "    uploaded = files.upload()  # Upload kaggle.json\n",
        "    !mkdir -p ~/.kaggle\n",
        "    !mv kaggle.json ~/.kaggle/\n",
        "    !chmod 600 ~/.kaggle/kaggle.json"
      ]
    },
    {
      "cell_type": "markdown",
      "metadata": {
        "id": "2Y5lwyniSKCK"
      },
      "source": [
        "## Load EMOTIC dataset"
      ]
    },
    {
      "cell_type": "code",
      "execution_count": 5,
      "metadata": {
        "colab": {
          "base_uri": "https://localhost:8080/"
        },
        "id": "QsECoTM2lMo6",
        "outputId": "6d2be93f-20f4-44ad-c8f7-5f2da889a498"
      },
      "outputs": [
        {
          "name": "stdout",
          "output_type": "stream",
          "text": [
            "EMOTIC image data path: /kaggle/input/emotic/img_arrs\n"
          ]
        }
      ],
      "source": [
        "dataset_path = kagglehub.dataset_download(\"magdawjcicka/emotic\")\n",
        "img_dir = f\"{dataset_path}/img_arrs\"\n",
        "print(\"EMOTIC image data path:\", img_dir)"
      ]
    },
    {
      "cell_type": "markdown",
      "metadata": {
        "id": "W2-39yFqSN1v"
      },
      "source": [
        "# Load audio files and .txt matching files from Google Drive"
      ]
    },
    {
      "cell_type": "code",
      "execution_count": null,
      "metadata": {
        "colab": {
          "base_uri": "https://localhost:8080/"
        },
        "id": "jZsMOno6lPm_",
        "outputId": "b44359fd-8d3a-48e1-fda5-b1771e073172"
      },
      "outputs": [],
      "source": [
        "from google.colab import drive\n",
        "drive.mount('/content/drive')"
      ]
    },
    {
      "cell_type": "code",
      "execution_count": 78,
      "metadata": {
        "id": "eHSiQXD8cq2r"
      },
      "outputs": [],
      "source": [
        "# !ls \"/content/drive/MyDrive\""
      ]
    },
    {
      "cell_type": "code",
      "execution_count": 8,
      "metadata": {
        "id": "DB_-4TSsp5R4"
      },
      "outputs": [],
      "source": [
        "!unzip -q \"/content/drive/MyDrive/project_data.zip\" -d \"/content\""
      ]
    },
    {
      "cell_type": "code",
      "execution_count": 9,
      "metadata": {
        "id": "IPg96xyCiwbj"
      },
      "outputs": [],
      "source": [
        "audio_dir = \"/content/project_data/music\""
      ]
    },
    {
      "cell_type": "code",
      "execution_count": 79,
      "metadata": {
        "id": "yPPRGPnhdP4r"
      },
      "outputs": [],
      "source": [
        "#!ls /content/project_data"
      ]
    },
    {
      "cell_type": "code",
      "execution_count": null,
      "metadata": {
        "colab": {
          "base_uri": "https://localhost:8080/"
        },
        "id": "5a0A4K0bok1F",
        "outputId": "30957e58-9624-42ac-93d5-f4d3180af90c"
      },
      "outputs": [],
      "source": [
        "df_train = pd.read_csv(\"/content/project_data/cleaned_train_matching.txt\", sep=' ', header=None, names=[\"audio_id\", \"image_file\", \"score\"])\n",
        "df_val = pd.read_csv(\"/content/project_data/cleaned_val_matching.txt\", sep=' ', header=None, names=[\"audio_id\", \"image_file\", \"score\"])\n",
        "df_test = pd.read_csv(\"/content/project_data/cleaned_test_matching.txt\", sep=' ', header=None, names=[\"audio_id\", \"image_file\", \"score\"])\n",
        "\n",
        "print(f\"Train: {len(df_train)}, Val: {len(df_val)}, Test: {len(df_test)}\")"
      ]
    },
    {
      "cell_type": "code",
      "execution_count": 12,
      "metadata": {
        "id": "zz6_XLJsThpr"
      },
      "outputs": [],
      "source": [
        "class ImageAudioDataset(Dataset):\n",
        "    def __init__(self, df, img_dir, audio_dir, sr=44100, max_sec=50):\n",
        "        \"\"\"\n",
        "        sr : int, optional\n",
        "            Target sampling rate for audio files. All audio will be resampled to this rate. Default is 44100 Hz.\n",
        "        max_sec : int, optional\n",
        "            Maximum duration of audio in seconds. Audio will be truncated or zero-padded to exactly `sr * max_sec` samples. Default is 50 seconds.\n",
        "        \"\"\"\n",
        "        self.df = df.reset_index(drop=True)\n",
        "        self.img_dir = img_dir\n",
        "        self.audio_dir = audio_dir\n",
        "        self.sr = sr\n",
        "        self.max_len = sr * max_sec  # 50 seconds = 2,205,000 samples\n",
        "    def __len__(self):\n",
        "        return len(self.df)\n",
        "\n",
        "    def __getitem__(self, idx):\n",
        "        row = self.df.iloc[idx]\n",
        "\n",
        "        # Load image\n",
        "        img_path = os.path.join(self.img_dir, row[\"image_file\"])\n",
        "        img = np.load(img_path).astype(np.float32) / 255.0\n",
        "        img = torch.tensor(img).permute(2, 0, 1)  # [H, W, C] → [C, H, W]\n",
        "\n",
        "        # Load audio\n",
        "        audio_id = row[\"audio_id\"].split(\"-\")[0]\n",
        "        audio_path = os.path.join(self.audio_dir, f\"{audio_id}.mp3\")\n",
        "        y, _ = librosa.load(audio_path, sr=self.sr)\n",
        "\n",
        "        # Pad or truncate to exactly 50 seconds\n",
        "        if len(y) < self.max_len:\n",
        "            y = np.pad(y, (0, self.max_len - len(y)), mode='constant')\n",
        "        else:\n",
        "            y = y[:self.max_len]\n",
        "\n",
        "        audio_tensor = torch.tensor(y, dtype=torch.float32)\n",
        "\n",
        "        return {\n",
        "            \"image\": img,\n",
        "            \"audio_raw\": audio_tensor,\n",
        "            \"score\": torch.tensor(row[\"score\"]).float(),\n",
        "            \"audio_id\": row[\"audio_id\"]\n",
        "        }\n"
      ]
    },
    {
      "cell_type": "code",
      "execution_count": 119,
      "metadata": {
        "id": "DIe_M8McUnZz"
      },
      "outputs": [],
      "source": [
        "train_loader = DataLoader(ImageAudioDataset(df_train, img_dir, audio_dir), batch_size=32, shuffle=True)\n",
        "val_loader = DataLoader(ImageAudioDataset(df_val, img_dir, audio_dir), batch_size=32)\n",
        "test_loader = DataLoader(ImageAudioDataset(df_test, img_dir, audio_dir), batch_size=32)"
      ]
    },
    {
      "cell_type": "markdown",
      "metadata": {
        "id": "lrrxyeuARjNV"
      },
      "source": [
        "# ***Data statistics***"
      ]
    },
    {
      "cell_type": "code",
      "execution_count": null,
      "metadata": {
        "colab": {
          "base_uri": "https://localhost:8080/",
          "height": 479
        },
        "id": "dZO10Eg_ZpSw",
        "outputId": "0d256406-9c11-4c81-9875-f4fd3c2488d4"
      },
      "outputs": [
        {
          "data": {
            "image/png": "[encoded data removed]",
            "text/plain": [
              "<Figure size 600x400 with 1 Axes>"
            ]
          },
          "metadata": {},
          "output_type": "display_data"
        },
        {
          "name": "stdout",
          "output_type": "stream",
          "text": [
            "Score stats:\n",
            "Min: 0.5000008980994213\n",
            "Max: 0.9998107522735143\n",
            "Mean: 0.7769\n"
          ]
        }
      ],
      "source": [
        "plt.figure(figsize=(6, 4))\n",
        "sns.histplot(df_train['score'], bins=50, kde=True, color='skyblue')\n",
        "plt.title(\"Distribution of Matching Scores (Train Set)\")\n",
        "plt.xlabel(\"Score\")\n",
        "plt.ylabel(\"Count\")\n",
        "plt.grid(True)\n",
        "plt.show()\n",
        "\n",
        "print(\"Score stats:\")\n",
        "print(\"Min:\", df_train['score'].min())\n",
        "print(\"Max:\", df_train['score'].max())\n",
        "print(\"Mean:\", round(df_train['score'].mean(), 4))"
      ]
    },
    {
      "cell_type": "code",
      "execution_count": null,
      "metadata": {
        "colab": {
          "base_uri": "https://localhost:8080/"
        },
        "id": "ixtET0p_ZtjL",
        "outputId": "c4abc786-a231-4abd-a5b4-898d00813bdb"
      },
      "outputs": [
        {
          "name": "stdout",
          "output_type": "stream",
          "text": [
            "Missing image files in train set: 0 out of 41321\n",
            "Missing image files in val set: 0 out of 3271\n",
            "Missing image files in test set: 0 out of 10003\n"
          ]
        }
      ],
      "source": [
        "for name, df in zip(['train', 'val', 'test'], [df_train, df_val, df_test]):\n",
        "    missing = sum(not os.path.exists(os.path.join(img_dir, fname)) for fname in df[\"image_file\"])\n",
        "    print(f\"Missing image files in {name} set: {missing} out of {len(df)}\")"
      ]
    },
    {
      "cell_type": "code",
      "execution_count": null,
      "metadata": {
        "colab": {
          "base_uri": "https://localhost:8080/"
        },
        "id": "pnJtWF_4fAcf",
        "outputId": "0de2bf9b-e7d1-4e00-ef1a-7da8c9fb1691"
      },
      "outputs": [
        {
          "name": "stdout",
          "output_type": "stream",
          "text": [
            "Total unique numeric audio_ids in matchings: 1802\n",
            "Total uploaded audio files: 1802\n",
            "Missing audio files: 0\n",
            "Extra audio files (not used): 0\n"
          ]
        }
      ],
      "source": [
        "audio_ids = set(os.path.splitext(f)[0] for f in os.listdir(audio_dir) if f.endswith(\".mp3\"))\n",
        "\n",
        "# Get numeric part of audio_id from matching files (e.g. \"2009-114\" → \"2009\")\n",
        "def extract_numeric_audio_id(audio_id):\n",
        "    return audio_id.split(\"-\")[0]\n",
        "\n",
        "matching_audio_ids = set(\n",
        "    extract_numeric_audio_id(aid)\n",
        "    for aid in pd.concat([df_train, df_val, df_test])[\"audio_id\"]\n",
        ")\n",
        "\n",
        "# Compare actual vs expected\n",
        "missing_mp3s = matching_audio_ids - audio_ids\n",
        "extra_mp3s = audio_ids - matching_audio_ids\n",
        "\n",
        "print(\"Total unique numeric audio_ids in matchings:\", len(matching_audio_ids))\n",
        "print(\"Total uploaded audio files:\", len(audio_ids))\n",
        "print(\"Missing audio files:\", len(missing_mp3s))\n",
        "print(\"Extra audio files (not used):\", len(extra_mp3s))\n",
        "if missing_mp3s:\n",
        "    print(\"Example missing:\", list(missing_mp3s)[:5])"
      ]
    },
    {
      "cell_type": "code",
      "execution_count": null,
      "metadata": {
        "colab": {
          "base_uri": "https://localhost:8080/",
          "height": 611
        },
        "id": "B_pf6Op5fGM8",
        "outputId": "a6beefdb-faa2-4479-b822-484af40e82d1"
      },
      "outputs": [
        {
          "name": "stdout",
          "output_type": "stream",
          "text": [
            "\n",
            "Number of sampled audio files: 150\n",
            "\n",
            "Sampled duration stats:\n",
            "Avg: 51.92 s\n",
            "Min: 44.86 s\n",
            "Max: 401.03 s\n",
            "Median: 45.03 s\n"
          ]
        },
        {
          "data": {
            "image/png": "[encoded data removed]",
            "text/plain": [
              "<Figure size 640x480 with 1 Axes>"
            ]
          },
          "metadata": {},
          "output_type": "display_data"
        }
      ],
      "source": [
        "SAMPLE_FILES_LEN = min(150, len(audio_ids))\n",
        "sampled_ids = sample(list(audio_ids), SAMPLE_FILES_LEN)\n",
        "\n",
        "print(f\"\\nNumber of sampled audio files: {len(sampled_ids)}\")\n",
        "\n",
        "durations = []\n",
        "\n",
        "for aid in sampled_ids:\n",
        "    path = os.path.join(audio_dir, f\"{aid}.mp3\")\n",
        "    try:\n",
        "        y, sr = librosa.load(path, sr=None)\n",
        "        durations.append(len(y) / sr)\n",
        "    except Exception as e:\n",
        "        print(f\"Failed to load {aid}.mp3:\", e)\n",
        "\n",
        "print(\"\\nSampled duration stats:\")\n",
        "print(\"Avg:\", round(np.mean(durations), 2), \"s\")\n",
        "print(\"Min:\", round(np.min(durations), 2), \"s\")\n",
        "print(\"Max:\", round(np.max(durations), 2), \"s\")\n",
        "print(\"Median:\", round(np.median(durations), 2), \"s\")\n",
        "\n",
        "plt.hist(durations, bins=15, color='orchid')\n",
        "plt.title(\"Sampled Audio Duration Distribution\")\n",
        "plt.xlabel(\"Duration (seconds)\")\n",
        "plt.ylabel(\"Number of Clips\")\n",
        "plt.grid(True)\n",
        "plt.show()"
      ]
    },
    {
      "cell_type": "code",
      "execution_count": null,
      "metadata": {
        "colab": {
          "base_uri": "https://localhost:8080/"
        },
        "id": "3anvdPoUgaSz",
        "outputId": "2777cbb0-d81a-41d6-a425-f49b2260e5b5"
      },
      "outputs": [
        {
          "name": "stdout",
          "output_type": "stream",
          "text": [
            "Sampling Rate Distribution (All Files):\n",
            "44100 Hz: 1778 files\n",
            "22050 Hz: 3 files\n",
            "48000 Hz: 20 files\n",
            "16000 Hz: 1 files\n",
            "\n",
            "Total analyzed: 1802\n",
            "Failed to read: 0\n"
          ]
        }
      ],
      "source": [
        "sr_list = []\n",
        "failures = []\n",
        "\n",
        "for fname in os.listdir(audio_dir):\n",
        "    if fname.endswith(\".mp3\"):\n",
        "        path = os.path.join(audio_dir, fname)\n",
        "        try:\n",
        "            info = sf.SoundFile(path)\n",
        "            sr_list.append(info.samplerate)\n",
        "        except Exception as e:\n",
        "            failures.append(fname)\n",
        "\n",
        "# Count occurrences of each SR\n",
        "sr_counter = Counter(sr_list)\n",
        "\n",
        "# Print summary\n",
        "print(\"Sampling Rate Distribution (All Files):\")\n",
        "for rate, count in sr_counter.items():\n",
        "    print(f\"{rate} Hz: {count} files\")\n",
        "\n",
        "print(f\"\\nTotal analyzed: {len(sr_list)}\")\n",
        "print(f\"Failed to read: {len(failures)}\")\n",
        "if failures:\n",
        "    print(\"Example failed files:\", failures[:5])"
      ]
    },
    {
      "cell_type": "code",
      "execution_count": null,
      "metadata": {
        "id": "uVLAk7xmlgRC"
      },
      "outputs": [],
      "source": [
        "# Dimensions:\n",
        "# batch[\"image\"].shape -> [B, 3, 224, 224]\n",
        "# batch[\"audio_raw\"].shape -> [B, sr * max_sec]\n",
        "# Optional:\n",
        "# batch[\"score\"].shape -> [B]\n",
        "# batch[\"audio_id\"] -> List of IDs"
      ]
    },
    {
      "cell_type": "markdown",
      "metadata": {
        "id": "H5quHWdVGt4I"
      },
      "source": [
        "# ***MODEL***"
      ]
    },
    {
      "cell_type": "code",
      "execution_count": 80,
      "metadata": {
        "id": "2qlelC3xS5tE"
      },
      "outputs": [],
      "source": [
        "device = torch.device('cuda' if torch.cuda.is_available() else 'cpu')"
      ]
    },
    {
      "cell_type": "code",
      "execution_count": 134,
      "metadata": {
        "id": "jlsen40qUNHj"
      },
      "outputs": [],
      "source": [
        "from transformers import ViTModel, ViTImageProcessor, ClapModel, ClapProcessor\n",
        "import torch\n",
        "from torchvision import transforms\n",
        "from torch import nn\n",
        "\n",
        "# TODO: Maybe compare with a resnet\n",
        "class ImageEncoder(nn.Module):\n",
        "    def __init__(self, vit_version):\n",
        "        super().__init__()\n",
        "        # Load the model and the class that the inputs go through\n",
        "        self.model = ViTModel.from_pretrained(vit_version, device_map='auto')\n",
        "        self.preprocessor = ViTImageProcessor.from_pretrained(vit_version, use_fast=True)\n",
        "\n",
        "    def encode(self, data):\n",
        "        inputs = self.preprocessor(images = data, return_tensors=\"pt\", do_normalize=True, do_convert_rgb=True, do_rescale=True, do_resize=True)\n",
        "        inputs = inputs.to(device)\n",
        "        outputs = self.model(**inputs)\n",
        "        return outputs.last_hidden_state\n",
        "\n",
        "class AudioEncoder(nn.Module):\n",
        "    def __init__(self, clap_version):\n",
        "        super().__init__()\n",
        "        # Load the model and the class that the inputs go through\n",
        "        self.model = ClapModel.from_pretrained(clap_version, device_map='auto')\n",
        "        self.preprocessor = ClapProcessor.from_pretrained(clap_version, use_fast=True)\n",
        "\n",
        "    def encode(self, sampling_rate, waveforms):\n",
        "        inputs = self.preprocessor(audios=waveforms.numpy(), sampling_rate=sampling_rate, return_tensors='pt')\n",
        "        inputs = inputs.to(device)\n",
        "        outputs = self.model.get_audio_features(**inputs)\n",
        "        return outputs"
      ]
    },
    {
      "cell_type": "code",
      "execution_count": 135,
      "metadata": {
        "colab": {
          "base_uri": "https://localhost:8080/"
        },
        "collapsed": true,
        "id": "95rdDMPNGt4J",
        "outputId": "1cdd6b09-9ce5-48f6-a122-7e8f870f2b61"
      },
      "outputs": [
        {
          "name": "stdout",
          "output_type": "stream",
          "text": [
            "False\n",
            "torch.Size([1, 512])\n",
            "tensor([[-8.5296e-02, -2.6249e-02,  4.0632e-02,  1.0577e-02,  3.4005e-02,\n",
            "         -2.1650e-02, -7.3908e-04,  2.2290e-02,  8.6597e-02, -5.8448e-02,\n",
            "         -3.0163e-02, -8.6816e-02, -4.4927e-02,  1.9606e-02, -4.8411e-02,\n",
            "          4.7513e-02,  1.5340e-02, -9.7588e-02, -4.1862e-03, -1.1842e-02,\n",
            "          3.1315e-02,  9.7000e-03, -3.0563e-02, -4.1317e-03, -2.9615e-02,\n",
            "          1.6850e-02,  7.7661e-03,  4.4357e-02,  1.4847e-02, -2.3486e-02,\n",
            "         -8.6516e-03,  2.9524e-02,  2.3315e-02,  7.0998e-03,  3.1070e-02,\n",
            "         -3.0500e-02, -1.1185e-02, -2.0414e-02, -8.4843e-02, -2.4246e-02,\n",
            "          3.3246e-03, -3.4654e-02,  9.4334e-03,  2.5948e-02, -4.5161e-02,\n",
            "          2.5418e-02,  4.9031e-02, -2.0376e-02,  2.4639e-02, -2.0818e-02,\n",
            "         -5.7266e-02,  2.1304e-02, -5.8152e-03,  2.4893e-02,  2.5115e-02,\n",
            "          2.6678e-02, -2.4551e-02, -3.2467e-02, -6.0571e-02,  9.9540e-02,\n",
            "         -1.0292e-01, -3.8100e-02,  1.0313e-01, -6.0024e-04,  2.0740e-02,\n",
            "          5.5769e-02, -9.0612e-02,  3.3383e-02, -3.3908e-02, -8.4787e-03,\n",
            "          1.0995e-01,  5.4848e-02,  7.8198e-02, -9.0109e-02, -4.8001e-02,\n",
            "         -1.6251e-02, -1.1558e-02,  2.0464e-02, -3.1092e-02,  4.7060e-02,\n",
            "          2.8254e-02, -2.2502e-02,  3.2766e-02, -5.6350e-02, -4.8274e-02,\n",
            "          7.0714e-02, -2.2436e-02,  2.3313e-02,  1.2146e-02, -2.7451e-02,\n",
            "          1.4646e-03,  1.9920e-02, -3.2941e-02,  1.2280e-02, -6.8152e-02,\n",
            "          1.3753e-03, -3.5372e-03, -1.6261e-02,  3.5012e-03,  6.9913e-03,\n",
            "         -6.4423e-02,  2.5609e-02, -6.5345e-02, -3.1932e-02,  8.7633e-02,\n",
            "         -9.2774e-03,  2.8463e-02, -3.8804e-02,  5.3055e-02,  2.4361e-02,\n",
            "         -2.1376e-02,  5.6847e-02,  2.8705e-03, -1.4337e-01, -9.2337e-03,\n",
            "          7.2423e-02, -1.0051e-02,  6.1310e-02,  1.4399e-03,  8.7342e-02,\n",
            "         -3.8959e-03,  1.0432e-01, -9.2541e-02, -7.1452e-03, -8.2845e-03,\n",
            "         -6.5301e-03, -3.5499e-02, -2.3725e-02,  1.0257e-02,  1.0985e-01,\n",
            "         -8.8950e-03, -1.1883e-01, -1.0691e-01,  2.3003e-02, -2.3869e-02,\n",
            "          1.7920e-02,  8.6866e-02, -3.5490e-02,  1.0595e-01, -3.3723e-03,\n",
            "         -5.6621e-02, -3.0830e-02,  6.0942e-02,  6.5392e-03,  1.0521e-01,\n",
            "          3.9078e-02,  1.0604e-01,  9.2604e-03, -8.0464e-02,  1.1212e-02,\n",
            "          2.5172e-02,  4.2893e-02, -1.1400e-02,  7.4943e-02, -1.6087e-02,\n",
            "          3.4050e-02, -5.7796e-02, -6.0439e-02, -4.7531e-02, -2.2070e-02,\n",
            "         -4.5581e-02,  3.4894e-02, -5.5893e-02,  8.5074e-02,  6.7169e-02,\n",
            "         -2.1956e-02, -2.9813e-02,  6.9879e-03, -3.7483e-03,  4.2531e-02,\n",
            "          3.9442e-02, -1.2049e-02,  3.1829e-02,  3.1550e-02,  1.6626e-02,\n",
            "          1.0136e-01, -6.0127e-02,  2.3679e-02, -2.7178e-02,  1.9107e-02,\n",
            "         -1.8431e-02,  1.3658e-01,  1.4652e-02, -6.1318e-03, -7.4744e-02,\n",
            "         -7.8139e-02,  2.0342e-02, -7.4736e-03,  6.2935e-02, -3.8293e-02,\n",
            "         -9.5701e-03,  1.6590e-02, -5.4267e-02, -5.1022e-02,  5.9804e-02,\n",
            "          3.3102e-02, -1.1971e-02,  5.9348e-02, -2.2996e-02, -2.2278e-02,\n",
            "         -5.1681e-02, -6.0248e-02,  1.6129e-02,  2.0722e-02,  5.7793e-02,\n",
            "         -6.1071e-02, -1.0435e-02,  6.4602e-02,  7.4727e-02, -9.4148e-02,\n",
            "         -4.1415e-02,  4.5321e-02, -1.9387e-02, -9.0907e-03,  5.3586e-02,\n",
            "          4.0808e-02, -3.3022e-02,  5.2803e-02,  2.7136e-02, -7.3298e-04,\n",
            "         -3.7934e-03, -3.8836e-04, -6.9683e-02, -5.4209e-02,  4.1794e-02,\n",
            "         -9.6834e-02,  4.2068e-02,  3.0452e-02, -1.4907e-02, -4.8605e-02,\n",
            "         -3.4627e-02, -3.0490e-02, -5.6198e-02, -2.5852e-02,  3.6154e-02,\n",
            "          7.6010e-02,  2.0470e-02,  3.4221e-02, -1.8736e-02,  6.6872e-02,\n",
            "         -3.5804e-02, -2.0943e-02, -1.7877e-02,  4.0178e-03,  3.1331e-02,\n",
            "         -4.1331e-02,  6.6874e-02,  4.3192e-02,  4.6234e-02, -2.6470e-02,\n",
            "          3.8198e-02,  4.9237e-02, -1.6180e-02, -2.2090e-02, -8.4882e-02,\n",
            "         -6.3332e-02, -5.2958e-02, -5.8070e-02, -4.0929e-02, -2.0243e-02,\n",
            "          4.1059e-02, -6.9571e-03, -4.8523e-03,  1.8718e-02,  4.3759e-02,\n",
            "         -5.3319e-03,  1.4815e-02, -2.4011e-02, -6.0623e-02,  2.3738e-02,\n",
            "          3.6248e-03,  3.7050e-03, -6.0376e-03,  6.5286e-02, -1.5883e-02,\n",
            "         -4.4206e-02,  7.2482e-02, -1.4498e-02,  5.4809e-02,  1.3932e-02,\n",
            "         -3.4611e-02, -5.0038e-02,  3.5523e-02,  2.0504e-02,  1.5922e-02,\n",
            "          2.7254e-02, -5.3096e-02, -5.9296e-03, -1.1076e-03, -7.9989e-03,\n",
            "          5.2109e-02, -8.2234e-02,  5.5026e-02,  1.0610e-02,  8.0004e-03,\n",
            "          1.0576e-02, -3.6720e-02,  1.4198e-02,  1.7812e-02, -7.8566e-02,\n",
            "          3.5351e-02, -2.0883e-02,  1.8398e-02,  1.4505e-02, -6.2740e-02,\n",
            "         -1.2627e-02, -2.4121e-02, -4.3364e-03,  6.9143e-02, -2.3436e-02,\n",
            "         -7.4906e-02,  5.8747e-02,  7.0067e-03, -3.5382e-02, -8.8433e-05,\n",
            "         -9.6453e-03,  3.8297e-02,  3.2220e-02,  3.2876e-02,  3.9939e-02,\n",
            "         -5.3703e-02, -6.1697e-03,  4.1695e-02,  4.8342e-02, -1.3114e-02,\n",
            "          1.0362e-02, -8.9939e-04,  5.1367e-02,  8.6266e-03,  6.4615e-02,\n",
            "          4.1583e-02,  7.8755e-02, -4.7241e-02, -4.8608e-02,  1.0465e-02,\n",
            "          7.1476e-02, -1.2550e-02,  1.3019e-02, -2.9097e-02,  3.0670e-03,\n",
            "          2.9281e-02,  6.1903e-02,  1.2563e-02, -5.1431e-02, -1.0868e-02,\n",
            "         -4.9886e-02, -8.6860e-02, -2.2634e-02,  3.7328e-02, -5.0406e-02,\n",
            "         -2.3474e-02,  4.3932e-02, -8.5159e-03, -1.4490e-02, -1.8458e-02,\n",
            "          5.0843e-04, -7.6036e-02,  3.1844e-04,  2.7465e-02, -7.8874e-02,\n",
            "         -4.3994e-02,  2.8881e-02,  3.5787e-02, -3.9900e-02, -5.5928e-02,\n",
            "         -8.9758e-02, -4.6765e-02, -2.4746e-02, -2.8845e-02,  2.6382e-02,\n",
            "         -5.5980e-02,  1.3116e-02,  1.7803e-03,  4.2799e-02,  3.0151e-02,\n",
            "          8.2960e-03,  4.2852e-02, -4.9377e-02,  6.9139e-02,  1.8935e-02,\n",
            "          3.3866e-02, -1.8114e-03,  2.2776e-02, -3.6386e-02,  2.8843e-02,\n",
            "          2.5061e-02,  5.3135e-02,  3.9536e-02, -1.8829e-02, -1.3389e-02,\n",
            "          5.2708e-02,  6.2315e-03, -4.0419e-02,  3.0991e-02,  1.9015e-02,\n",
            "         -2.6937e-02,  1.5247e-03,  2.5851e-02, -4.7598e-02,  4.4169e-02,\n",
            "          3.6642e-02, -1.7731e-02, -3.2599e-02, -2.6999e-02, -7.1567e-02,\n",
            "          4.0746e-02, -5.4007e-02, -4.0001e-02,  1.1036e-02,  3.3117e-03,\n",
            "          1.0774e-01,  2.7996e-02,  1.1624e-02,  5.2471e-02, -3.0495e-02,\n",
            "         -7.2828e-02,  1.0331e-01,  2.9017e-03,  2.2915e-02,  4.4961e-02,\n",
            "          6.2146e-02,  1.9256e-02,  1.5823e-02,  7.5813e-03, -7.4967e-03,\n",
            "          3.5073e-02, -5.0212e-02, -1.7258e-02,  5.1890e-02, -5.7247e-02,\n",
            "         -3.4715e-03, -2.7344e-02,  2.1585e-02, -4.5970e-03, -1.5123e-02,\n",
            "          5.5277e-03, -1.5991e-02, -2.4741e-03, -2.4984e-03,  3.3156e-02,\n",
            "          2.4340e-03, -1.1391e-02,  2.6162e-04,  6.7381e-02,  5.5794e-03,\n",
            "          2.2444e-02, -1.4885e-02, -5.7904e-03, -2.0366e-02,  5.5517e-02,\n",
            "          1.0546e-03, -3.1663e-02,  5.6590e-03,  2.4217e-02, -2.8797e-02,\n",
            "         -3.7257e-02, -8.2849e-03, -3.8126e-02,  5.9210e-03,  4.1051e-02,\n",
            "          2.2055e-02,  4.4333e-02,  2.5472e-02,  2.0492e-02,  3.9995e-02,\n",
            "         -6.4439e-03, -7.5753e-02, -3.8970e-03,  4.6847e-02,  1.3422e-02,\n",
            "         -6.3419e-02,  1.6693e-02, -4.4967e-02, -1.1116e-01,  2.2931e-02,\n",
            "          6.1144e-02, -6.7089e-03, -2.9469e-03, -1.8967e-02, -2.4676e-03,\n",
            "         -5.7402e-02, -5.2683e-02,  1.4894e-02,  3.7041e-02,  1.2629e-01,\n",
            "         -1.8647e-02,  2.8829e-02,  1.8863e-02, -1.0699e-02,  3.2862e-02,\n",
            "          3.5385e-02, -2.1613e-02,  3.9140e-02,  2.2433e-02, -2.8105e-03,\n",
            "          1.1316e-02, -1.0667e-02,  1.8899e-02,  7.4045e-02,  4.7797e-02,\n",
            "          7.7279e-02, -3.5389e-03,  6.0779e-02, -1.7673e-02,  3.4874e-02,\n",
            "          3.9427e-02,  6.6704e-03, -2.6688e-02,  2.9130e-02, -2.6792e-02,\n",
            "          3.2343e-02, -3.8069e-02]], device='cuda:0', grad_fn=<DivBackward0>)\n",
            "torch.Size([1, 197, 768])\n",
            "tensor([[[ 0.2079,  0.1011, -0.2429,  ...,  0.0146,  0.0160,  0.0909],\n",
            "         [ 0.3296,  0.0676, -0.1825,  ...,  0.0255,  0.0658,  0.1461],\n",
            "         [ 0.3985,  0.1516, -0.0845,  ...,  0.0045,  0.1345,  0.1533],\n",
            "         ...,\n",
            "         [ 0.3502,  0.1310, -0.2932,  ...,  0.0353,  0.1515,  0.0723],\n",
            "         [ 0.3237,  0.1239, -0.2995,  ...,  0.0244,  0.1416,  0.0555],\n",
            "         [ 0.2735,  0.1390, -0.2919,  ...,  0.0900,  0.0488,  0.0625]]],\n",
            "       device='cuda:0', grad_fn=<NativeLayerNormBackward0>)\n"
          ]
        }
      ],
      "source": [
        "# Sample usage\n",
        "data = ImageAudioDataset(df_train, img_dir, audio_dir, sr=48000, max_sec=10)\n",
        "image_encoder = ImageEncoder(\"google/vit-base-patch16-224-in21k\")\n",
        "#image_encoder.cuda()#to(torch.device('cuda'))\n",
        "audio_encoder = AudioEncoder(\"laion/clap-htsat-unfused\")\n",
        "\n",
        "#print(next(image_encoder.parameters()).is_cuda) # returns a boolean\n",
        "\n",
        "\n",
        "# Passing through only one example to test it\n",
        "waveform = data[0]['audio_raw']\n",
        "audio_embedding = audio_encoder.encode(\n",
        "   sampling_rate=48000,\n",
        "   waveforms=waveform, # No need to explicitly torch.unsqueeze this\n",
        ")\n",
        "print(audio_embedding.shape)\n",
        "print(audio_embedding)\n",
        "\n",
        "image = data[0]['image']#.to(torch.device('cuda'))\n",
        "#print(image.is_cuda)\n",
        "#input = image_encoder.preprocess(image).to(torch.device('cuda'))\n",
        "#print(input['pixel_values'].is_cuda)\n",
        "image_embedding = image_encoder.encode(\n",
        "    data=image,\n",
        ")\n",
        "print(image_embedding.shape)\n",
        "print(image_embedding)\n",
        "\n",
        "# TODO:\n",
        "# class CLIP(torch.nn.Module)\n",
        "#   def __init__(self, image_encoder, audio_encoder):\n",
        "#       self.image_encoder = image_encoder\n",
        "#       self.audio_encoder = audio_encoder\n",
        "#       self.image_projection = torch.nn.Sequential([\n",
        "#           torch.nn.Linear(197 * 768, 197 * 768, bias=False),\n",
        "#           torch.nn.ReLU(),\n",
        "#           torch.nn.Linear(197 * 768, 512, bias=False))\n",
        "#       ])\n",
        "#       # TODO: Ensure dimensions here are correct and even better, don't hardcode them\n",
        "\n",
        "#   def forward(self, batch):\n",
        "#       image_embeddings = self.image_encoder.encode(batch.images) # Pass the images through the ViT\n",
        "#       audio_embeddings = self.audio_encoder.encode(batch.audio) # Pass the audio through CLAP\n",
        "#       projected_image_embeddings = self.image_projection(image_embeddings) # this is the MLP/Linear layer\n",
        "#       # TODO: In the repo code, normalization is applied here - we need to find out if it's necessary\n",
        "#       # Calculate loss (contrastive)"
      ]
    },
    {
      "cell_type": "code",
      "execution_count": 136,
      "metadata": {
        "id": "csaP6x-UqEe5"
      },
      "outputs": [],
      "source": [
        "class MLPMapper(torch.nn.Module):\n",
        "    def __init__(self, in_dim, h_dim, out_dim):\n",
        "        super().__init__()\n",
        "        self.mlp = torch.nn.Sequential(\n",
        "            torch.nn.Linear(in_dim, h_dim),\n",
        "            torch.nn.ReLU(),\n",
        "            torch.nn.Linear(h_dim, out_dim)\n",
        "        )\n",
        "\n",
        "    def forward(self, x):\n",
        "        return self.mlp(x)"
      ]
    },
    {
      "cell_type": "code",
      "execution_count": 137,
      "metadata": {
        "id": "6Wobm3uTX1HU"
      },
      "outputs": [],
      "source": [
        "image_encoder = ImageEncoder(\"google/vit-base-patch16-224-in21k\")\n",
        "audio_encoder = AudioEncoder(\"laion/clap-htsat-unfused\")\n",
        "\n",
        "for param in image_encoder.model.parameters():\n",
        "    param.requires_grad = False\n",
        "for param in audio_encoder.model.parameters():\n",
        "    param.requires_grad = False"
      ]
    },
    {
      "cell_type": "code",
      "execution_count": 138,
      "metadata": {
        "id": "DmO1FWov9AOY"
      },
      "outputs": [],
      "source": [
        "class PictureToMusicModel(torch.nn.Module):\n",
        "    def __init__(self, im_dim, au_dim, h_dim, out_dim, im_en, au_en):\n",
        "        super().__init__()\n",
        "        self.image_encoder = im_en\n",
        "        self.audio_encoder = au_en\n",
        "        self.image_mapper = MLPMapper(im_dim, h_dim, out_dim)\n",
        "        self.audio_mapper = MLPMapper(au_dim, h_dim, out_dim)\n",
        "        self.logit_scale = torch.nn.Parameter(torch.tensor(1.0)) # learnable temperature\n",
        "\n",
        "    def forward(self, image_input, audio_input):\n",
        "        image_emb = self.image_encoder.encode(data=image_input)\n",
        "        audio_emb = self.audio_encoder.encode(sampling_rate=48000, waveforms=audio_input)\n",
        "\n",
        "        image_proj = self.image_mapper(image_emb)\n",
        "        audio_proj = self.audio_mapper(audio_emb)\n",
        "\n",
        "        image_proj = torch.nn.functional.normalize(image_proj, dim=-1)\n",
        "        audio_proj = torch.nn.functional.normalize(audio_proj, dim=-1)\n",
        "\n",
        "        # clamping (restricting) the temperature\n",
        "        logit_scale = self.logit_scale.exp()\n",
        "        logit_scale = torch.clamp(logit_scale, 0, 100)\n",
        "\n",
        "        return image_proj, audio_proj, logit_scale"
      ]
    },
    {
      "cell_type": "markdown",
      "metadata": {
        "id": "FLREVvvvXKCv"
      },
      "source": [
        "### Training Loop"
      ]
    },
    {
      "cell_type": "code",
      "execution_count": 155,
      "metadata": {
        "id": "07hQc9kuYCTd"
      },
      "outputs": [],
      "source": [
        "im_dim = 768       # ViT output dim 197x768\n",
        "h_dim = im_dim * 2\n",
        "au_dim = 512       # CLAP output dim\n",
        "out_dim = 512      # Shared space\n",
        "\n",
        "model = PictureToMusicModel(im_dim, au_dim, h_dim, out_dim, image_encoder, audio_encoder)\n",
        "model = model.to(device)"
      ]
    },
    {
      "cell_type": "code",
      "execution_count": 151,
      "metadata": {
        "id": "pf3njfm99CN_"
      },
      "outputs": [],
      "source": [
        "from torch.nn.functional import cross_entropy\n",
        "\n",
        "def contrastive_loss(image_embeds, audio_embeds, logit_scale): # learnable temperature\n",
        "    logits_per_image = logit_scale * image_embeds @ audio_embeds.T\n",
        "    logits_per_audio = logits_per_image.T\n",
        "\n",
        "    labels = torch.arange(image_embeds.size(0)).to(image_embeds.device)\n",
        "\n",
        "    loss_i2a = cross_entropy(logits_per_image, labels)\n",
        "    loss_a2i = cross_entropy(logits_per_audio, labels)\n",
        "\n",
        "    return (loss_i2a + loss_a2i) / 2\n",
        "\n",
        "optimizer = torch.optim.AdamW([\n",
        "    {'params': model.image_mapper.parameters(), 'lr': 1e-4},\n",
        "    {'params': model.audio_mapper.parameters(), 'lr': 1e-4},\n",
        "    {'params': [model.logit_scale], 'lr': 1e-4},\n",
        "], weight_decay=1e-2)"
      ]
    },
    {
      "cell_type": "code",
      "execution_count": 152,
      "metadata": {
        "id": "banVQP7lXO0k"
      },
      "outputs": [],
      "source": [
        "def train_step(model, image_input, audio_input, optimizer):\n",
        "    model.train()\n",
        "\n",
        "    image_proj, audio_proj, logit_scale = model(image_input, audio_input)\n",
        "    loss = contrastive_loss(image_proj, audio_proj, logit_scale)\n",
        "\n",
        "    optimizer.zero_grad()\n",
        "    loss.backward()\n",
        "    optimizer.step()\n",
        "\n",
        "    print(f\"Loss: {loss.item():.4f}\")\n",
        "    print(f\"Image shape: {image_input.shape}\")  # Expect [B, C, H, W]\n",
        "    print(f\"Audio shape: {audio_input.shape}\")  # Expect [B, T] or [B, 1, T]\n",
        "    print(f\"Image_proj shape: {image_proj.shape}\")  # [B, D]\n",
        "    print(f\"Audio_proj shape: {audio_proj.shape}\\n\",)  # [B, D]\n",
        "\n",
        "\n",
        "    return loss.item()"
      ]
    },
    {
      "cell_type": "code",
      "execution_count": 153,
      "metadata": {
        "id": "l5IRxjdBbtSW"
      },
      "outputs": [],
      "source": [
        "def train_loop(model, train_loader, val_loader, optimizer, num_epochs):\n",
        "    for epoch in range(num_epochs):\n",
        "        model.train()\n",
        "        train_loss = 0.0\n",
        "\n",
        "        for batch in train_loader:\n",
        "            image_input = batch[\"image\"]\n",
        "            audio_input = batch[\"audio_raw\"]\n",
        "\n",
        "            print(image_input.get_device())\n",
        "            print(audio_input.get_device())\n",
        "\n",
        "            loss = train_step(model, image_input, audio_input, optimizer)\n",
        "            train_loss += loss\n",
        "\n",
        "        avg_train_loss = train_loss / len(train_loader)\n",
        "\n",
        "        model.eval()\n",
        "        val_loss = 0.0\n",
        "        with torch.no_grad():\n",
        "            for batch in val_loader:\n",
        "                image_input = batch[\"image\"]\n",
        "                audio_input = batch[\"audio_raw\"]\n",
        "\n",
        "                image_proj, audio_proj, logit_scale = model(image_input, audio_input)\n",
        "                loss = contrastive_loss(image_proj, audio_proj, logit_scale)\n",
        "\n",
        "                val_loss += loss.item()\n",
        "\n",
        "        avg_val_loss = val_loss / len(val_loader)\n",
        "\n",
        "        print(f\"Epoch [{epoch+1}/{num_epochs}] | Train Loss: {avg_train_loss:.4f} | Val Loss: {avg_val_loss:.4f}\")\n"
      ]
    },
    {
      "cell_type": "code",
      "execution_count": 154,
      "metadata": {
        "colab": {
          "base_uri": "https://localhost:8080/",
          "height": 721
        },
        "id": "SyVbTOxIgHev",
        "outputId": "f7b2ba6f-6b04-451f-cef4-04d8e504cdc5"
      },
      "outputs": [
        {
          "name": "stdout",
          "output_type": "stream",
          "text": [
            "-1\n",
            "-1\n",
            "False\n"
          ]
        },
        {
          "ename": "RuntimeError",
          "evalue": "Expected target size [32, 32], got [32]",
          "output_type": "error",
          "traceback": [
            "\u001b[0;31m---------------------------------------------------------------------------\u001b[0m",
            "\u001b[0;31mRuntimeError\u001b[0m                              Traceback (most recent call last)",
            "\u001b[0;32m/tmp/ipython-input-154-2367771395.py\u001b[0m in \u001b[0;36m<cell line: 0>\u001b[0;34m()\u001b[0m\n\u001b[0;32m----> 1\u001b[0;31m \u001b[0mtrain_loop\u001b[0m\u001b[0;34m(\u001b[0m\u001b[0mmodel\u001b[0m\u001b[0;34m,\u001b[0m \u001b[0mtrain_loader\u001b[0m\u001b[0;34m,\u001b[0m \u001b[0mval_loader\u001b[0m\u001b[0;34m,\u001b[0m \u001b[0moptimizer\u001b[0m\u001b[0;34m,\u001b[0m \u001b[0mnum_epochs\u001b[0m\u001b[0;34m=\u001b[0m\u001b[0;36m5\u001b[0m\u001b[0;34m)\u001b[0m\u001b[0;34m\u001b[0m\u001b[0;34m\u001b[0m\u001b[0m\n\u001b[0m",
            "\u001b[0;32m/tmp/ipython-input-153-3984172585.py\u001b[0m in \u001b[0;36mtrain_loop\u001b[0;34m(model, train_loader, val_loader, optimizer, num_epochs)\u001b[0m\n\u001b[1;32m     11\u001b[0m             \u001b[0mprint\u001b[0m\u001b[0;34m(\u001b[0m\u001b[0maudio_input\u001b[0m\u001b[0;34m.\u001b[0m\u001b[0mget_device\u001b[0m\u001b[0;34m(\u001b[0m\u001b[0;34m)\u001b[0m\u001b[0;34m)\u001b[0m\u001b[0;34m\u001b[0m\u001b[0;34m\u001b[0m\u001b[0m\n\u001b[1;32m     12\u001b[0m \u001b[0;34m\u001b[0m\u001b[0m\n\u001b[0;32m---> 13\u001b[0;31m             \u001b[0mloss\u001b[0m \u001b[0;34m=\u001b[0m \u001b[0mtrain_step\u001b[0m\u001b[0;34m(\u001b[0m\u001b[0mmodel\u001b[0m\u001b[0;34m,\u001b[0m \u001b[0mimage_input\u001b[0m\u001b[0;34m,\u001b[0m \u001b[0maudio_input\u001b[0m\u001b[0;34m,\u001b[0m \u001b[0moptimizer\u001b[0m\u001b[0;34m)\u001b[0m\u001b[0;34m\u001b[0m\u001b[0;34m\u001b[0m\u001b[0m\n\u001b[0m\u001b[1;32m     14\u001b[0m             \u001b[0mtrain_loss\u001b[0m \u001b[0;34m+=\u001b[0m \u001b[0mloss\u001b[0m\u001b[0;34m\u001b[0m\u001b[0;34m\u001b[0m\u001b[0m\n\u001b[1;32m     15\u001b[0m \u001b[0;34m\u001b[0m\u001b[0m\n",
            "\u001b[0;32m/tmp/ipython-input-152-3583722693.py\u001b[0m in \u001b[0;36mtrain_step\u001b[0;34m(model, image_input, audio_input, optimizer)\u001b[0m\n\u001b[1;32m      7\u001b[0m \u001b[0;34m\u001b[0m\u001b[0m\n\u001b[1;32m      8\u001b[0m     \u001b[0mimage_proj\u001b[0m\u001b[0;34m,\u001b[0m \u001b[0maudio_proj\u001b[0m\u001b[0;34m,\u001b[0m \u001b[0mlogit_scale\u001b[0m \u001b[0;34m=\u001b[0m \u001b[0mmodel\u001b[0m\u001b[0;34m(\u001b[0m\u001b[0mimage_input\u001b[0m\u001b[0;34m,\u001b[0m \u001b[0maudio_input\u001b[0m\u001b[0;34m)\u001b[0m\u001b[0;34m\u001b[0m\u001b[0;34m\u001b[0m\u001b[0m\n\u001b[0;32m----> 9\u001b[0;31m     \u001b[0mloss\u001b[0m \u001b[0;34m=\u001b[0m \u001b[0mcontrastive_loss\u001b[0m\u001b[0;34m(\u001b[0m\u001b[0mimage_proj\u001b[0m\u001b[0;34m,\u001b[0m \u001b[0maudio_proj\u001b[0m\u001b[0;34m,\u001b[0m \u001b[0mlogit_scale\u001b[0m\u001b[0;34m)\u001b[0m\u001b[0;34m\u001b[0m\u001b[0;34m\u001b[0m\u001b[0m\n\u001b[0m\u001b[1;32m     10\u001b[0m \u001b[0;34m\u001b[0m\u001b[0m\n\u001b[1;32m     11\u001b[0m     \u001b[0moptimizer\u001b[0m\u001b[0;34m.\u001b[0m\u001b[0mzero_grad\u001b[0m\u001b[0;34m(\u001b[0m\u001b[0;34m)\u001b[0m\u001b[0;34m\u001b[0m\u001b[0;34m\u001b[0m\u001b[0m\n",
            "\u001b[0;32m/tmp/ipython-input-151-1301944991.py\u001b[0m in \u001b[0;36mcontrastive_loss\u001b[0;34m(image_embeds, audio_embeds, logit_scale)\u001b[0m\n\u001b[1;32m      7\u001b[0m     \u001b[0mlabels\u001b[0m \u001b[0;34m=\u001b[0m \u001b[0mtorch\u001b[0m\u001b[0;34m.\u001b[0m\u001b[0marange\u001b[0m\u001b[0;34m(\u001b[0m\u001b[0mimage_embeds\u001b[0m\u001b[0;34m.\u001b[0m\u001b[0msize\u001b[0m\u001b[0;34m(\u001b[0m\u001b[0;36m0\u001b[0m\u001b[0;34m)\u001b[0m\u001b[0;34m)\u001b[0m\u001b[0;34m.\u001b[0m\u001b[0mto\u001b[0m\u001b[0;34m(\u001b[0m\u001b[0mimage_embeds\u001b[0m\u001b[0;34m.\u001b[0m\u001b[0mdevice\u001b[0m\u001b[0;34m)\u001b[0m\u001b[0;34m\u001b[0m\u001b[0;34m\u001b[0m\u001b[0m\n\u001b[1;32m      8\u001b[0m \u001b[0;34m\u001b[0m\u001b[0m\n\u001b[0;32m----> 9\u001b[0;31m     \u001b[0mloss_i2a\u001b[0m \u001b[0;34m=\u001b[0m \u001b[0mcross_entropy\u001b[0m\u001b[0;34m(\u001b[0m\u001b[0mlogits_per_image\u001b[0m\u001b[0;34m,\u001b[0m \u001b[0mlabels\u001b[0m\u001b[0;34m)\u001b[0m\u001b[0;34m\u001b[0m\u001b[0;34m\u001b[0m\u001b[0m\n\u001b[0m\u001b[1;32m     10\u001b[0m     \u001b[0mloss_a2i\u001b[0m \u001b[0;34m=\u001b[0m \u001b[0mcross_entropy\u001b[0m\u001b[0;34m(\u001b[0m\u001b[0mlogits_per_audio\u001b[0m\u001b[0;34m,\u001b[0m \u001b[0mlabels\u001b[0m\u001b[0;34m)\u001b[0m\u001b[0;34m\u001b[0m\u001b[0;34m\u001b[0m\u001b[0m\n\u001b[1;32m     11\u001b[0m \u001b[0;34m\u001b[0m\u001b[0m\n",
            "\u001b[0;32m/usr/local/lib/python3.11/dist-packages/torch/nn/functional.py\u001b[0m in \u001b[0;36mcross_entropy\u001b[0;34m(input, target, weight, size_average, ignore_index, reduce, reduction, label_smoothing)\u001b[0m\n\u001b[1;32m   3492\u001b[0m     \u001b[0;32mif\u001b[0m \u001b[0msize_average\u001b[0m \u001b[0;32mis\u001b[0m \u001b[0;32mnot\u001b[0m \u001b[0;32mNone\u001b[0m \u001b[0;32mor\u001b[0m \u001b[0mreduce\u001b[0m \u001b[0;32mis\u001b[0m \u001b[0;32mnot\u001b[0m \u001b[0;32mNone\u001b[0m\u001b[0;34m:\u001b[0m\u001b[0;34m\u001b[0m\u001b[0;34m\u001b[0m\u001b[0m\n\u001b[1;32m   3493\u001b[0m         \u001b[0mreduction\u001b[0m \u001b[0;34m=\u001b[0m \u001b[0m_Reduction\u001b[0m\u001b[0;34m.\u001b[0m\u001b[0mlegacy_get_string\u001b[0m\u001b[0;34m(\u001b[0m\u001b[0msize_average\u001b[0m\u001b[0;34m,\u001b[0m \u001b[0mreduce\u001b[0m\u001b[0;34m)\u001b[0m\u001b[0;34m\u001b[0m\u001b[0;34m\u001b[0m\u001b[0m\n\u001b[0;32m-> 3494\u001b[0;31m     return torch._C._nn.cross_entropy_loss(\n\u001b[0m\u001b[1;32m   3495\u001b[0m         \u001b[0minput\u001b[0m\u001b[0;34m,\u001b[0m\u001b[0;34m\u001b[0m\u001b[0;34m\u001b[0m\u001b[0m\n\u001b[1;32m   3496\u001b[0m         \u001b[0mtarget\u001b[0m\u001b[0;34m,\u001b[0m\u001b[0;34m\u001b[0m\u001b[0;34m\u001b[0m\u001b[0m\n",
            "\u001b[0;31mRuntimeError\u001b[0m: Expected target size [32, 32], got [32]"
          ]
        }
      ],
      "source": [
        "train_loop(model, train_loader, val_loader, optimizer, num_epochs=5)"
      ]
    },
    {
      "cell_type": "code",
      "execution_count": null,
      "metadata": {
        "id": "Ryt1CUsCpaK3"
      },
      "outputs": [],
      "source": [
        "# TODO:\n",
        "# 1. Add an MLP head on top of the CLIP embedding.\n",
        "# 2. Load image and audio encoders from existing CLIP-compatible models.\n",
        "# 3. Pass image/audio through their encoders and get embeddings.\n",
        "# 4. Concatenate or fuse the embeddings if needed.\n",
        "# 5. Train the MLP to map image embeddings to audio embeddings (or vice versa).\n"
      ]
    },
    {
      "cell_type": "code",
      "execution_count": null,
      "metadata": {
        "id": "LRcq3whYXIok"
      },
      "outputs": [],
      "source": []
    }
  ],
  "metadata": {
    "accelerator": "GPU",
    "colab": {
      "gpuType": "T4",
      "provenance": []
    },
    "kernelspec": {
      "display_name": "Python 3",
      "name": "python3"
    },
    "language_info": {
      "name": "python"
    }
  },
  "nbformat": 4,
  "nbformat_minor": 0
}
