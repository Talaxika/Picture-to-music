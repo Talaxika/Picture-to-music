{
  "nbformat": 4,
  "nbformat_minor": 0,
  "metadata": {
    "colab": {
      "provenance": []
    },
    "kernelspec": {
      "name": "python3",
      "display_name": "Python 3"
    },
    "language_info": {
      "name": "python"
    }
  },
  "cells": [
    {
      "cell_type": "code",
      "execution_count": 16,
      "metadata": {
        "id": "1pGn0I3Dq0UF"
      },
      "outputs": [],
      "source": [
        "import kagglehub\n",
        "import librosa\n",
        "import numpy as np\n",
        "import pandas as pd\n",
        "import os\n",
        "from numpy.linalg import norm"
      ]
    },
    {
      "cell_type": "code",
      "source": [
        "# This is 30gb, its slow\n",
        "path = kagglehub.dataset_download(\"imsparsh/fma-free-music-archive-small-medium\")\n",
        "\n",
        "print(\"Path to dataset files:\", path)"
      ],
      "metadata": {
        "colab": {
          "base_uri": "https://localhost:8080/"
        },
        "id": "aaen-1aHr5nV",
        "outputId": "0a6e4cf6-3ccf-47a1-f42c-28bd8d0f8df9"
      },
      "execution_count": 2,
      "outputs": [
        {
          "output_type": "stream",
          "name": "stdout",
          "text": [
            "Downloading from https://www.kaggle.com/api/v1/datasets/download/imsparsh/fma-free-music-archive-small-medium?dataset_version_number=1...\n"
          ]
        },
        {
          "output_type": "stream",
          "name": "stderr",
          "text": [
            "100%|██████████| 29.8G/29.8G [05:40<00:00, 93.9MB/s]"
          ]
        },
        {
          "output_type": "stream",
          "name": "stdout",
          "text": [
            "Extracting files...\n"
          ]
        },
        {
          "output_type": "stream",
          "name": "stderr",
          "text": [
            "\n"
          ]
        },
        {
          "output_type": "stream",
          "name": "stdout",
          "text": [
            "Path to dataset files: /root/.cache/kagglehub/datasets/imsparsh/fma-free-music-archive-small-medium/versions/1\n"
          ]
        }
      ]
    },
    {
      "cell_type": "code",
      "source": [
        "AUDIO_DIR = os.path.join(path, \"fma_small/fma_small\")\n",
        "SAVE_PATH = \"audio_embeddings.pkl\"\n",
        "SR = 48000 # HZ\n",
        "DURATION = 10 # seconds"
      ],
      "metadata": {
        "id": "CWDwcVmuvSgb"
      },
      "execution_count": 8,
      "outputs": []
    },
    {
      "cell_type": "code",
      "source": [
        "# Count total files and subdirs\n",
        "n_files = 0\n",
        "n_dirs = 0\n",
        "for root, dirs, files in os.walk(AUDIO_DIR):\n",
        "    n_files += len([f for f in files if f.endswith(\".mp3\")])\n",
        "    n_dirs += len(dirs)\n",
        "print(f\"Total MP3 files: {n_files}\")\n",
        "print(f\"Total subdirs: {n_dirs}\")"
      ],
      "metadata": {
        "colab": {
          "base_uri": "https://localhost:8080/"
        },
        "id": "QyAGq0WjxJ-4",
        "outputId": "ae579c51-0e03-4459-d0c2-0e55e499d474"
      },
      "execution_count": 9,
      "outputs": [
        {
          "output_type": "stream",
          "name": "stdout",
          "text": [
            "Total MP3 files: 8000\n",
            "Total subdirs: 156\n"
          ]
        }
      ]
    },
    {
      "cell_type": "code",
      "source": [
        "def load_and_preprocess_audio(filepath, sr=48000, duration=10):\n",
        "    y, _ = librosa.load(filepath, sr=sr, mono=True)\n",
        "    target_len = sr * duration\n",
        "    if len(y) < target_len:\n",
        "        # Pad with zeros if too short\n",
        "        y = np.pad(y, (0, target_len - len(y)))\n",
        "    elif len(y) > target_len:\n",
        "        # Trim if too long\n",
        "        y = y[:target_len]\n",
        "    return y"
      ],
      "metadata": {
        "id": "Ua2eYKxss7CV"
      },
      "execution_count": 14,
      "outputs": []
    },
    {
      "cell_type": "code",
      "source": [
        "def get_fake_embedding(audio):\n",
        "    # Simulate real encoder work\n",
        "    return np.random.rand(512)"
      ],
      "metadata": {
        "id": "gAqTOYg-sywE"
      },
      "execution_count": 15,
      "outputs": []
    },
    {
      "cell_type": "code",
      "source": [
        "# Untested\n",
        "\n",
        "embeddings = []\n",
        "track_ids = []\n",
        "\n",
        "for root, _, files in os.walk(AUDIO_DIR):\n",
        "    for fname in files:\n",
        "        if fname.endswith(\".mp3\"):\n",
        "            filepath = os.path.join(root, fname)\n",
        "            track_id = int(os.path.splitext(fname)[0])\n",
        "            audio = load_and_preprocess_audio(filepath)\n",
        "            emb = get_fake_embedding(audio)\n",
        "            embeddings.append(emb)\n",
        "            track_ids.append(track_id)"
      ],
      "metadata": {
        "id": "HVS6UmFVttyA"
      },
      "execution_count": null,
      "outputs": []
    },
    {
      "cell_type": "code",
      "source": [
        "# Untested\n",
        "# Save as DataFrame\n",
        "embeddings_df = pd.DataFrame(embeddings, index=track_ids)\n",
        "embeddings_df.to_pickle(SAVE_PATH)\n",
        "print(f\"Saved {len(embeddings_df)} embeddings to {SAVE_PATH}\")"
      ],
      "metadata": {
        "colab": {
          "base_uri": "https://localhost:8080/"
        },
        "id": "h2_eChFVw53y",
        "outputId": "acd4653c-45fd-4a66-9fcc-6ab947d438d7"
      },
      "execution_count": 23,
      "outputs": [
        {
          "output_type": "stream",
          "name": "stdout",
          "text": [
            "Saved 10 embeddings to audio_embeddings.pkl\n"
          ]
        }
      ]
    },
    {
      "cell_type": "code",
      "source": [
        "from google.colab import files\n",
        "files.download(SAVE_PATH)"
      ],
      "metadata": {
        "id": "REG4vcdsxhaU"
      },
      "execution_count": null,
      "outputs": []
    },
    {
      "cell_type": "code",
      "source": [
        "def cosine_similarity(a, b):\n",
        "    return np.dot(a, b) / (norm(a) * norm(b))\n",
        "\n",
        "def find_best_match(query_emb, embeddings_df, top_k=5):\n",
        "    scores = embeddings_df.apply(lambda row: cosine_similarity(query_emb, row.values), axis=1)\n",
        "    return scores.nlargest(top_k)"
      ],
      "metadata": {
        "id": "XT27ib0KuUUh"
      },
      "execution_count": 17,
      "outputs": []
    },
    {
      "cell_type": "code",
      "source": [
        "######## TEST RUN\n",
        "# Create 10 random embeddings\n",
        "embeddings = [np.random.rand(512) for _ in range(10)]\n",
        "track_ids = [f\"track_{i}\" for i in range(10)]\n",
        "embeddings_df = pd.DataFrame(embeddings, index=track_ids)\n",
        "\n",
        "query_embedding = embeddings_df.iloc[3].values\n",
        "\n",
        "top_matches = find_best_match(query_embedding, embeddings_df, top_k=5)\n",
        "\n",
        "print(top_matches)"
      ],
      "metadata": {
        "colab": {
          "base_uri": "https://localhost:8080/"
        },
        "id": "RKvKgNbWzeG1",
        "outputId": "5ea4b779-5e5c-4e59-dd94-b9aa91b19ad4"
      },
      "execution_count": 20,
      "outputs": [
        {
          "output_type": "stream",
          "name": "stdout",
          "text": [
            "track_3    1.000000\n",
            "track_6    0.769301\n",
            "track_5    0.764414\n",
            "track_7    0.763734\n",
            "track_9    0.756734\n",
            "dtype: float64\n"
          ]
        }
      ]
    },
    {
      "cell_type": "code",
      "source": [
        "# top 3 matches\n",
        "print(\"Query embedding, first 10 values:\\n\", query_embedding[:10], \"\\n\")\n",
        "\n",
        "for i, idx in enumerate(top_matches.index[:3]):\n",
        "    emb = embeddings_df.loc[idx].values\n",
        "    print(f\"Top {i+1} match (track_id={idx}), first 10 values:\\n{emb[:10]}\\n\")\n"
      ],
      "metadata": {
        "colab": {
          "base_uri": "https://localhost:8080/"
        },
        "id": "L1o6g7q60AYH",
        "outputId": "1c32573e-f4bd-434c-8190-c64619f7d57c"
      },
      "execution_count": 22,
      "outputs": [
        {
          "output_type": "stream",
          "name": "stdout",
          "text": [
            "Query embedding, first 10 values:\n",
            " [0.05517154 0.14344381 0.92098478 0.90524225 0.14059859 0.02802065\n",
            " 0.33153839 0.50003882 0.23035156 0.40961226] \n",
            "\n",
            "Top 1 match (track_id=track_3), first 10 values:\n",
            "[0.05517154 0.14344381 0.92098478 0.90524225 0.14059859 0.02802065\n",
            " 0.33153839 0.50003882 0.23035156 0.40961226]\n",
            "\n",
            "Top 2 match (track_id=track_6), first 10 values:\n",
            "[0.96758908 0.44620667 0.26217524 0.76981148 0.39393867 0.40281111\n",
            " 0.19902281 0.72525252 0.29093822 0.4834461 ]\n",
            "\n",
            "Top 3 match (track_id=track_5), first 10 values:\n",
            "[0.54867458 0.6390797  0.37262114 0.89687935 0.58662965 0.13242765\n",
            " 0.58461819 0.11318776 0.45150855 0.82464045]\n",
            "\n"
          ]
        }
      ]
    }
  ]
}