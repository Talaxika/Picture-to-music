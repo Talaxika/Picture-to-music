{
  "nbformat": 4,
  "nbformat_minor": 0,
  "metadata": {
    "colab": {
      "provenance": []
    },
    "kernelspec": {
      "name": "python3",
      "display_name": "Python 3"
    },
    "language_info": {
      "name": "python"
    }
  },
  "cells": [
    {
      "cell_type": "code",
      "execution_count": null,
      "metadata": {
        "id": "gEaO-WxRkrLB"
      },
      "outputs": [],
      "source": [
        "# First, upload the dataset by following these commands:\n",
        "# Go to https://drive.google.com\n",
        "# Navigate to My Drive\n",
        "# Click \"New\" → \"File Upload\"\n",
        "# Upload deam_project_data.zip, which is downloaded from https://github.com/Talaxika/Picture-to-music"
      ]
    },
    {
      "cell_type": "code",
      "source": [
        "!pip install kagglehub --quiet"
      ],
      "metadata": {
        "id": "Xevn-vm7Z4gp"
      },
      "execution_count": null,
      "outputs": []
    },
    {
      "cell_type": "code",
      "source": [
        "!pip install librosa soundfile --quiet"
      ],
      "metadata": {
        "id": "-46iJLqVe7-V"
      },
      "execution_count": null,
      "outputs": []
    },
    {
      "cell_type": "code",
      "source": [
        "import os\n",
        "import pandas as pd\n",
        "import numpy as np\n",
        "import kagglehub\n",
        "from torch.utils.data import Dataset, DataLoader\n",
        "import torch\n",
        "import matplotlib.pyplot as plt\n",
        "import seaborn as sns\n",
        "import librosa\n",
        "import soundfile as sf\n",
        "from collections import Counter\n",
        "from random import sample"
      ],
      "metadata": {
        "id": "jOcjqU99UuqF"
      },
      "execution_count": 60,
      "outputs": []
    },
    {
      "cell_type": "code",
      "source": [
        "if not os.path.exists(\"/root/.kaggle/kaggle.json\"):\n",
        "    print(\"📎 Please upload your kaggle.json API key file\")\n",
        "    from google.colab import files\n",
        "    uploaded = files.upload()  # Upload kaggle.json\n",
        "    !mkdir -p ~/.kaggle\n",
        "    !mv kaggle.json ~/.kaggle/\n",
        "    !chmod 600 ~/.kaggle/kaggle.json"
      ],
      "metadata": {
        "id": "0TmnU6E6lJkD"
      },
      "execution_count": null,
      "outputs": []
    },
    {
      "cell_type": "code",
      "source": [
        "dataset_path = kagglehub.dataset_download(\"magdawjcicka/emotic\")\n",
        "img_dir = f\"{dataset_path}/img_arrs\"\n",
        "print(\"EMOTIC image data path:\", img_dir)"
      ],
      "metadata": {
        "colab": {
          "base_uri": "https://localhost:8080/"
        },
        "id": "QsECoTM2lMo6",
        "outputId": "843c3d11-0a57-4701-e7ec-fc7b984c118e"
      },
      "execution_count": null,
      "outputs": [
        {
          "output_type": "stream",
          "name": "stdout",
          "text": [
            "✅ EMOTIC image data path: /kaggle/input/emotic/img_arrs\n"
          ]
        }
      ]
    },
    {
      "cell_type": "code",
      "source": [
        "from google.colab import drive\n",
        "drive.mount('/content/drive')"
      ],
      "metadata": {
        "colab": {
          "base_uri": "https://localhost:8080/"
        },
        "id": "jZsMOno6lPm_",
        "outputId": "bd79b57a-fee2-45a7-ac91-1aad2186b4c2"
      },
      "execution_count": null,
      "outputs": [
        {
          "output_type": "stream",
          "name": "stdout",
          "text": [
            "Drive already mounted at /content/drive; to attempt to forcibly remount, call drive.mount(\"/content/drive\", force_remount=True).\n"
          ]
        }
      ]
    },
    {
      "cell_type": "code",
      "source": [
        "# If help needed:\n",
        "# !ls \"/content/drive/MyDrive\""
      ],
      "metadata": {
        "colab": {
          "base_uri": "https://localhost:8080/"
        },
        "id": "eHSiQXD8cq2r",
        "outputId": "d0d056ad-47df-41c1-9113-292038044c8d"
      },
      "execution_count": null,
      "outputs": [
        {
          "output_type": "stream",
          "name": "stdout",
          "text": [
            " 20220410_210853.pdf\n",
            " 277215555_1421669364918349_5725126775532216862_n.jpg\n",
            " 277316159_318237320375303_2639721636218327997_n.jpg\n",
            " 277375538_526110968858485_2422943486046531735_n.jpg\n",
            " 901219011_Sladun.ino\n",
            "'Colab Notebooks'\n",
            " homework_01\n",
            " Motivational_letter.docx\n",
            " Motivational_letter_SA.pdf\n",
            " project_data.zip\n",
            " Диплома.pdf\n",
            " СладунА_Диплома.pdf\n"
          ]
        }
      ]
    },
    {
      "cell_type": "code",
      "source": [
        "!unzip -q \"/content/drive/MyDrive/project_data.zip\" -d \"/content/project_data\""
      ],
      "metadata": {
        "id": "DB_-4TSsp5R4"
      },
      "execution_count": null,
      "outputs": []
    },
    {
      "cell_type": "code",
      "source": [
        "audio_dir = \"/content/project_data/music\""
      ],
      "metadata": {
        "id": "IPg96xyCiwbj"
      },
      "execution_count": null,
      "outputs": []
    },
    {
      "cell_type": "code",
      "source": [
        "# If help needed:\n",
        "# !ls /content/project_data"
      ],
      "metadata": {
        "colab": {
          "base_uri": "https://localhost:8080/"
        },
        "id": "yPPRGPnhdP4r",
        "outputId": "b765c922-f016-494a-e101-89b3dc1851bc"
      },
      "execution_count": null,
      "outputs": [
        {
          "output_type": "stream",
          "name": "stdout",
          "text": [
            "project_data\n"
          ]
        }
      ]
    },
    {
      "cell_type": "code",
      "source": [
        "df_train = pd.read_csv(\"/content/project_data/cleaned_train_matching.txt\", sep=' ', header=None, names=[\"audio_id\", \"image_file\", \"score\"])\n",
        "df_val = pd.read_csv(\"/content/project_data/cleaned_val_matching.txt\", sep=' ', header=None, names=[\"audio_id\", \"image_file\", \"score\"])\n",
        "df_test = pd.read_csv(\"/content/project_data/cleaned_test_matching.txt\", sep=' ', header=None, names=[\"audio_id\", \"image_file\", \"score\"])\n",
        "\n",
        "print(f\"Train: {len(df_train)}, Val: {len(df_val)}, Test: {len(df_test)}\")"
      ],
      "metadata": {
        "colab": {
          "base_uri": "https://localhost:8080/"
        },
        "id": "5a0A4K0bok1F",
        "outputId": "53356411-d743-456a-d0f3-36437852ae1c"
      },
      "execution_count": null,
      "outputs": [
        {
          "output_type": "stream",
          "name": "stdout",
          "text": [
            "Train: 41321, Val: 3271, Test: 10003\n"
          ]
        }
      ]
    },
    {
      "cell_type": "code",
      "source": [
        "class ImageAudioDataset(Dataset):\n",
        "    def __init__(self, df, img_dir, audio_dir, sr=44100, max_sec=50):\n",
        "        \"\"\"\n",
        "        sr : int, optional\n",
        "            Target sampling rate for audio files. All audio will be resampled to this rate. Default is 44100 Hz.\n",
        "        max_sec : int, optional\n",
        "            Maximum duration of audio in seconds. Audio will be truncated or zero-padded to exactly `sr * max_sec` samples. Default is 50 seconds.\n",
        "        \"\"\"\n",
        "        self.df = df.reset_index(drop=True)\n",
        "        self.img_dir = img_dir\n",
        "        self.audio_dir = audio_dir\n",
        "        self.sr = sr\n",
        "        self.max_len = sr * max_sec  # 50 seconds = 2,205,000 samples\n",
        "    def __len__(self):\n",
        "        return len(self.df)\n",
        "\n",
        "    def __getitem__(self, idx):\n",
        "        row = self.df.iloc[idx]\n",
        "\n",
        "        # Load image\n",
        "        img_path = os.path.join(self.img_dir, row[\"image_file\"])\n",
        "        img = np.load(img_path).astype(np.float32) / 255.0\n",
        "        img = torch.tensor(img).permute(2, 0, 1)  # [H, W, C] → [C, H, W]\n",
        "\n",
        "        # Load audio\n",
        "        audio_id = row[\"audio_id\"].split(\"-\")[0]\n",
        "        audio_path = os.path.join(self.audio_dir, f\"{audio_id}.mp3\")\n",
        "        y, _ = librosa.load(audio_path, sr=self.sr)\n",
        "\n",
        "        # Pad or truncate to exactly 50 seconds\n",
        "        if len(y) < self.max_len:\n",
        "            y = np.pad(y, (0, self.max_len - len(y)), mode='constant')\n",
        "        else:\n",
        "            y = y[:self.max_len]\n",
        "\n",
        "        audio_tensor = torch.tensor(y, dtype=torch.float32)\n",
        "\n",
        "        return {\n",
        "            \"image\": img,\n",
        "            \"audio_raw\": audio_tensor,\n",
        "            \"score\": torch.tensor(row[\"score\"]).float(),\n",
        "            \"audio_id\": row[\"audio_id\"]\n",
        "        }\n"
      ],
      "metadata": {
        "id": "zz6_XLJsThpr"
      },
      "execution_count": 63,
      "outputs": []
    },
    {
      "cell_type": "code",
      "source": [
        "train_loader = DataLoader(ImageAudioDataset(df_train, img_dir, audio_dir), batch_size=32, shuffle=True)\n",
        "val_loader = DataLoader(ImageAudioDataset(df_val, img_dir, audio_dir), batch_size=32)\n",
        "test_loader = DataLoader(ImageAudioDataset(df_test, img_dir, audio_dir), batch_size=32)"
      ],
      "metadata": {
        "id": "DIe_M8McUnZz"
      },
      "execution_count": 64,
      "outputs": []
    },
    {
      "cell_type": "code",
      "source": [
        "plt.figure(figsize=(6, 4))\n",
        "sns.histplot(df_train['score'], bins=50, kde=True, color='skyblue')\n",
        "plt.title(\"Distribution of Matching Scores (Train Set)\")\n",
        "plt.xlabel(\"Score\")\n",
        "plt.ylabel(\"Count\")\n",
        "plt.grid(True)\n",
        "plt.show()\n",
        "\n",
        "print(\"Score stats:\")\n",
        "print(\"Min:\", df_train['score'].min())\n",
        "print(\"Max:\", df_train['score'].max())\n",
        "print(\"Mean:\", round(df_train['score'].mean(), 4))"
      ],
      "metadata": {
        "colab": {
          "base_uri": "https://localhost:8080/",
          "height": 479
        },
        "id": "dZO10Eg_ZpSw",
        "outputId": "770ed58a-85cc-437d-ef3b-967d74c05b2a"
      },
      "execution_count": 66,
      "outputs": [
        {
          "output_type": "display_data",
          "data": {
            "text/plain": [
              "<Figure size 600x400 with 1 Axes>"
            ],
            "image/png": "[encoded data removed]"
          },
          "metadata": {}
        },
        {
          "output_type": "stream",
          "name": "stdout",
          "text": [
            "Score stats:\n",
            "Min: 0.5000008980994213\n",
            "Max: 0.9998107522735143\n",
            "Mean: 0.7769\n"
          ]
        }
      ]
    },
    {
      "cell_type": "code",
      "source": [
        "for name, df in zip(['train', 'val', 'test'], [df_train, df_val, df_test]):\n",
        "    missing = sum(not os.path.exists(os.path.join(img_dir, fname)) for fname in df[\"image_file\"])\n",
        "    print(f\"Missing image files in {name} set: {missing} out of {len(df)}\")"
      ],
      "metadata": {
        "colab": {
          "base_uri": "https://localhost:8080/"
        },
        "id": "ixtET0p_ZtjL",
        "outputId": "ec1fb176-34d5-46d6-8874-bd7b099570eb"
      },
      "execution_count": 67,
      "outputs": [
        {
          "output_type": "stream",
          "name": "stdout",
          "text": [
            "Missing image files in train set: 0 out of 41321\n",
            "Missing image files in val set: 0 out of 3271\n",
            "Missing image files in test set: 0 out of 10003\n"
          ]
        }
      ]
    },
    {
      "cell_type": "code",
      "source": [
        "audio_ids = set(os.path.splitext(f)[0] for f in os.listdir(audio_dir) if f.endswith(\".mp3\"))\n",
        "\n",
        "# Get numeric part of audio_id from matching files (e.g. \"2009-114\" → \"2009\")\n",
        "def extract_numeric_audio_id(audio_id):\n",
        "    return audio_id.split(\"-\")[0]\n",
        "\n",
        "matching_audio_ids = set(\n",
        "    extract_numeric_audio_id(aid)\n",
        "    for aid in pd.concat([df_train, df_val, df_test])[\"audio_id\"]\n",
        ")\n",
        "\n",
        "# Compare actual vs expected\n",
        "missing_mp3s = matching_audio_ids - audio_ids\n",
        "extra_mp3s = audio_ids - matching_audio_ids\n",
        "\n",
        "print(\"Total unique numeric audio_ids in matchings:\", len(matching_audio_ids))\n",
        "print(\"Total uploaded audio files:\", len(audio_ids))\n",
        "print(\"Missing audio files:\", len(missing_mp3s))\n",
        "print(\"Extra audio files (not used):\", len(extra_mp3s))\n",
        "if missing_mp3s:\n",
        "    print(\"Example missing:\", list(missing_mp3s)[:5])"
      ],
      "metadata": {
        "colab": {
          "base_uri": "https://localhost:8080/"
        },
        "id": "pnJtWF_4fAcf",
        "outputId": "d97153d5-0574-4643-b122-1a4fdbda5a07"
      },
      "execution_count": 68,
      "outputs": [
        {
          "output_type": "stream",
          "name": "stdout",
          "text": [
            "Total unique numeric audio_ids in matchings: 1802\n",
            "Total uploaded audio files: 1802\n",
            "Missing audio files: 0\n",
            "Extra audio files (not used): 0\n"
          ]
        }
      ]
    },
    {
      "cell_type": "code",
      "source": [
        "SAMPLE_FILES_LEN = min(150, len(audio_ids))\n",
        "sampled_ids = sample(list(audio_ids), SAMPLE_FILES_LEN)\n",
        "\n",
        "print(f\"\\nNumber of sampled audio files: {len(sampled_ids)}\")\n",
        "\n",
        "durations = []\n",
        "\n",
        "for aid in sampled_ids:\n",
        "    path = os.path.join(audio_dir, f\"{aid}.mp3\")\n",
        "    try:\n",
        "        y, sr = librosa.load(path, sr=None)\n",
        "        durations.append(len(y) / sr)\n",
        "    except Exception as e:\n",
        "        print(f\"Failed to load {aid}.mp3:\", e)\n",
        "\n",
        "print(\"\\nSampled duration stats:\")\n",
        "print(\"Avg:\", round(np.mean(durations), 2), \"s\")\n",
        "print(\"Min:\", round(np.min(durations), 2), \"s\")\n",
        "print(\"Max:\", round(np.max(durations), 2), \"s\")\n",
        "print(\"Median:\", round(np.median(durations), 2), \"s\")\n",
        "\n",
        "plt.hist(durations, bins=15, color='orchid')\n",
        "plt.title(\"Sampled Audio Duration Distribution\")\n",
        "plt.xlabel(\"Duration (seconds)\")\n",
        "plt.ylabel(\"Number of Clips\")\n",
        "plt.grid(True)\n",
        "plt.show()"
      ],
      "metadata": {
        "colab": {
          "base_uri": "https://localhost:8080/",
          "height": 611
        },
        "id": "B_pf6Op5fGM8",
        "outputId": "6964ee66-7dc8-4eb4-a456-825b57a59914"
      },
      "execution_count": 61,
      "outputs": [
        {
          "output_type": "stream",
          "name": "stdout",
          "text": [
            "\n",
            "Number of sampled audio files: 150\n",
            "\n",
            "Sampled duration stats:\n",
            "Avg: 51.39 s\n",
            "Min: 44.94 s\n",
            "Max: 401.03 s\n",
            "Median: 45.0 s\n"
          ]
        },
        {
          "output_type": "display_data",
          "data": {
            "text/plain": [
              "<Figure size 640x480 with 1 Axes>"
            ],
            "image/png": "[encoded data removed]"
          },
          "metadata": {}
        }
      ]
    },
    {
      "cell_type": "code",
      "source": [
        "sr_list = []\n",
        "failures = []\n",
        "\n",
        "for fname in os.listdir(audio_dir):\n",
        "    if fname.endswith(\".mp3\"):\n",
        "        path = os.path.join(audio_dir, fname)\n",
        "        try:\n",
        "            info = sf.SoundFile(path)\n",
        "            sr_list.append(info.samplerate)\n",
        "        except Exception as e:\n",
        "            failures.append(fname)\n",
        "\n",
        "# Count occurrences of each SR\n",
        "sr_counter = Counter(sr_list)\n",
        "\n",
        "# Print summary\n",
        "print(\"🎚 Sampling Rate Distribution (All Files):\")\n",
        "for rate, count in sr_counter.items():\n",
        "    print(f\"{rate} Hz: {count} files\")\n",
        "\n",
        "print(f\"\\nTotal analyzed: {len(sr_list)}\")\n",
        "print(f\"Failed to read: {len(failures)}\")\n",
        "if failures:\n",
        "    print(\"Example failed files:\", failures[:5])"
      ],
      "metadata": {
        "colab": {
          "base_uri": "https://localhost:8080/"
        },
        "id": "3anvdPoUgaSz",
        "outputId": "4db580be-012d-4ff2-8f7c-5c35a41233fd"
      },
      "execution_count": 69,
      "outputs": [
        {
          "output_type": "stream",
          "name": "stdout",
          "text": [
            "🎚 Sampling Rate Distribution (All Files):\n",
            "44100 Hz: 1778 files\n",
            "48000 Hz: 20 files\n",
            "16000 Hz: 1 files\n",
            "22050 Hz: 3 files\n",
            "\n",
            "Total analyzed: 1802\n",
            "Failed to read: 0\n"
          ]
        }
      ]
    },
    {
      "cell_type": "code",
      "source": [
        "# Use:\n",
        "# batch = next(iter(train_loader))\n",
        "\n",
        "# print(\"Image:\", batch[\"image\"].shape)        # [B, 3, 224, 224]\n",
        "# print(\"Audio:\", batch[\"audio_raw\"].shape)    # [B, sr * max_sec]\n",
        "# print(\"Score:\", batch[\"score\"].shape)        # [B]\n",
        "# print(\"IDs:\", batch[\"audio_id\"])             # List of IDs\n",
        "\n",
        "# train_loader\n",
        "# test_loader\n",
        "# val_loader"
      ],
      "metadata": {
        "colab": {
          "base_uri": "https://localhost:8080/"
        },
        "id": "uVLAk7xmlgRC",
        "outputId": "892070c4-8b1d-4a9a-f810-6464e547c873"
      },
      "execution_count": 71,
      "outputs": [
        {
          "output_type": "stream",
          "name": "stdout",
          "text": [
            "Image: torch.Size([32, 3, 224, 224])\n",
            "Audio: torch.Size([32, 2205000])\n",
            "Score: torch.Size([32])\n",
            "IDs: ['1550-19', '1227-12', '2043-81', '653-10', '458-19', '1015-14', '1465-10', '1722-19', '1957-18', '1482-14', '1307-10', '2056-9', '7-13', '1705-17', '1886-9', '40-14', '1208-9', '1956-9', '2036-138', '250-20', '623-20', '1353-19', '1553-20', '1523-14', '194-13', '1001-9', '1621-19', '1152-11', '64-15', '1999-17', '2012-32', '2055-105']\n"
          ]
        }
      ]
    }
  ]
}